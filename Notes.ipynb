{
 "cells": [
  {
   "cell_type": "markdown",
   "metadata": {},
   "source": [
    "# Create Node Server\n",
    "\n",
    "To create a Node server with express we need to require the express library first and then we need to define a Port number and then create a server with the help of app.listen()"
   ]
  },
  {
   "cell_type": "markdown",
   "metadata": {},
   "source": [
    "const express = require('express')\n",
    "\n",
    "const cors = require('cors')\n",
    "\n",
    "const app = express()"
   ]
  },
  {
   "cell_type": "markdown",
   "metadata": {},
   "source": [
    "app.use(express.json())\n",
    "\n",
    "app.use(cors())\n",
    "\n",
    "const PORT = 8080\n",
    "\n",
    "app.listen(PORT, () => {\n",
    "\n",
    "     console.log(`Server is running on PORT ${PORT}...`)\n",
    "\n",
    "})"
   ]
  },
  {
   "cell_type": "markdown",
   "metadata": {},
   "source": [
    "Here, you can see that we have set the port as 8080 now if we run the command as npm start we will be able to see the output as Server is running on PORT 8080... in the console."
   ]
  },
  {
   "cell_type": "markdown",
   "metadata": {},
   "source": [
    "# Connect MongoDB Database\n",
    "\n",
    "Like, express we need to require mongoose for counting the database and we also need the connection credentials from the Atlas MongoDB. "
   ]
  },
  {
   "cell_type": "markdown",
   "metadata": {},
   "source": [
    "const mongoose = require('mongoose')\n",
    "\n",
    "const DB = 'connection string'\n",
    "\n",
    "\n",
    "mongoose.connect(DB, {\n",
    "\n",
    "    useNewUrlParser: true,\n",
    "\n",
    "     useUnifiedTopology: true,\n",
    "\n",
    "}).then(() =>{\n",
    "\n",
    "    console.log('Database connected..')\n",
    "\n",
    "})"
   ]
  },
  {
   "cell_type": "markdown",
   "metadata": {},
   "source": [
    "# Create PhoneBook model\n",
    "\n",
    "- After connecting the MongoDB database, it is time to create our database schema model.\n",
    "\n",
    "- We will create it into a separate folder and will name it Model and inside the model folder, then create a file PhoneBook.js inside the modal folder.\n",
    "\n",
    "\n",
    "\n"
   ]
  },
  {
   "cell_type": "markdown",
   "metadata": {},
   "source": [
    "const mongoose = require('mongoose')\n",
    "\n",
    "const PhoneBookSchema = new mongoose.Schema({\n",
    "\n",
    "    name : {\n",
    "\n",
    "        type : String,\n",
    "\n",
    "        required : true\n",
    "\n",
    "    },\n",
    "\n",
    "    phone : {\n",
    "\n",
    "        type : Number,\n",
    "\n",
    "        required : true\n",
    "\n",
    "    }\n",
    "\n",
    "})\n",
    "\n",
    "const PhoneBook = mongoose.model('PhoneBook',PhoneBookSchema)\n",
    "\n",
    "module.exports = PhoneBook"
   ]
  },
  {
   "cell_type": "markdown",
   "metadata": {},
   "source": [
    "- we have created a schema model where we will store two types of data.\n",
    "\n",
    "- One is the name which type is String and another one is the phone which type is Number, We also set them as required: true as a result, it will throw a mongo error if any fields remain empty.\n",
    "\n",
    "- Finally, we have exported this schema model so that we can use it by importing it into another file."
   ]
  },
  {
   "cell_type": "markdown",
   "metadata": {},
   "source": []
  }
 ],
 "metadata": {
  "language_info": {
   "name": "python"
  }
 },
 "nbformat": 4,
 "nbformat_minor": 2
}
